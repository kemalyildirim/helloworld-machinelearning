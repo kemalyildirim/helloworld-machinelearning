{
  "nbformat": 4,
  "nbformat_minor": 0,
  "metadata": {
    "colab": {
      "name": "cse315_161805025_assignment_1.ipynb",
      "version": "0.3.2",
      "provenance": [],
      "collapsed_sections": [],
      "include_colab_link": true
    },
    "kernelspec": {
      "name": "python3",
      "display_name": "Python 3"
    }
  },
  "cells": [
    {
      "cell_type": "markdown",
      "metadata": {
        "id": "view-in-github",
        "colab_type": "text"
      },
      "source": [
        "<a href=\"https://colab.research.google.com/github/kemalyildirim/helloworld-machinelearning/blob/master/cse315_161805025_assignment_1.ipynb\" target=\"_parent\"><img src=\"https://colab.research.google.com/assets/colab-badge.svg\" alt=\"Open In Colab\"/></a>"
      ]
    },
    {
      "metadata": {
        "id": "Ys7jqPBVUfYC",
        "colab_type": "text"
      },
      "cell_type": "markdown",
      "source": [
        "Kemal Yildirim - 161805025 Adnan Menderes University\n",
        "\n",
        "CSE 315 Assignment#1\n"
      ]
    },
    {
      "metadata": {
        "id": "KQNFIAk_UMNj",
        "colab_type": "text"
      },
      "cell_type": "markdown",
      "source": [
        "Import libraries."
      ]
    },
    {
      "metadata": {
        "id": "pMJePHMyI-O1",
        "colab_type": "code",
        "colab": {}
      },
      "cell_type": "code",
      "source": [
        "import pandas as pd\n",
        "import numpy as np\n",
        "import urllib"
      ],
      "execution_count": 0,
      "outputs": []
    },
    {
      "metadata": {
        "id": "saPYlRVuUHB0",
        "colab_type": "text"
      },
      "cell_type": "markdown",
      "source": [
        "Fetch data set then name columns."
      ]
    },
    {
      "metadata": {
        "id": "eTH-EPVNJG1n",
        "colab_type": "code",
        "colab": {}
      },
      "cell_type": "code",
      "source": [
        "column = [\"S1\",\"C1\",\"S2\",\"C2\",\"S3\",\"C3\",\"S4\",\"C4\",\"S5\",\"C5\",\"CLASS\"]\n",
        "link = \"https://archive.ics.uci.edu/ml/machine-learning-databases/poker/\"\n",
        "\n",
        "#Fetch training and test set\n",
        "urllib.request.urlretrieve(link + \"poker-hand-training-true.data\",\"training.csv\")\n",
        "#urllib.request.urlretrieve(link + \"poker-hand-testing.data\",\"testing.csv\")\n",
        "\n",
        "training_set = pd.read_csv(\"training.csv\", names = column)\n"
      ],
      "execution_count": 0,
      "outputs": []
    },
    {
      "metadata": {
        "id": "gjWnszgRMtvj",
        "colab_type": "code",
        "outputId": "39c763b0-9158-43e7-ca69-29455234e5be",
        "colab": {
          "base_uri": "https://localhost:8080/",
          "height": 221
        }
      },
      "cell_type": "code",
      "source": [
        "print(training_set.head())"
      ],
      "execution_count": 224,
      "outputs": [
        {
          "output_type": "stream",
          "text": [
            "   S1  C1  S2  C2  S3  C3  S4  C4  S5  C5  CLASS\n",
            "0   1  10   1  11   1  13   1  12   1   1      9\n",
            "1   2  11   2  13   2  10   2  12   2   1      9\n",
            "2   3  12   3  11   3  13   3  10   3   1      9\n",
            "3   4  10   4  11   4   1   4  13   4  12      9\n",
            "4   4   1   4  13   4  12   4  11   4  10      9\n",
            "   S1  C1  S2  C2  S3  C3  S4  C4  S5  C5  CLASS\n",
            "0   1   1   1  13   2   4   2   3   1  12      0\n",
            "1   3  12   3   2   3  11   4   5   2   5      1\n",
            "2   1   9   4   6   1   4   3   2   3   9      1\n",
            "3   1   4   3  13   2  13   2   1   3   6      1\n",
            "4   3  10   2   7   1   2   2  11   4   9      0\n"
          ],
          "name": "stdout"
        }
      ]
    },
    {
      "metadata": {
        "id": "kpw5JCCw_EU4",
        "colab_type": "code",
        "colab": {
          "base_uri": "https://localhost:8080/",
          "height": 281
        },
        "outputId": "42ef025d-0ef3-4702-e47c-c0c8e7f0256d"
      },
      "cell_type": "code",
      "source": [
        "hist = training_set.hist(column='CLASS')"
      ],
      "execution_count": 243,
      "outputs": [
        {
          "output_type": "display_data",
          "data": {
            "image/png": "[encoded data removed]",
            "text/plain": [
              "<Figure size 432x288 with 1 Axes>"
            ]
          },
          "metadata": {
            "tags": []
          }
        }
      ]
    },
    {
      "metadata": {
        "id": "oscHpVGvTToC",
        "colab_type": "text"
      },
      "cell_type": "markdown",
      "source": [
        "Set rows [0:9] as features and row 11 as output:"
      ]
    },
    {
      "metadata": {
        "id": "1W0iTeOeMypB",
        "colab_type": "code",
        "colab": {}
      },
      "cell_type": "code",
      "source": [
        "from sklearn.model_selection import train_test_split\n",
        "\n",
        "X = training_set.iloc[:,0:-1]\n",
        "Y = training_set.iloc[:,-1]\n",
        "\n",
        "#Split 20% of the data for testing.\n",
        "X_train, X_test, Y_train, Y_test = train_test_split(X, Y, test_size = 0.2, random_state = 42)"
      ],
      "execution_count": 0,
      "outputs": []
    },
    {
      "metadata": {
        "id": "WBtm0xOXYy3c",
        "colab_type": "code",
        "outputId": "56c954d8-14ed-4078-ccb2-70bab3d4604f",
        "colab": {
          "base_uri": "https://localhost:8080/",
          "height": 85
        }
      },
      "cell_type": "code",
      "source": [
        "print(X_train.shape)\n",
        "print(Y_train.shape)\n",
        "print(X_test.shape)\n",
        "print(Y_test.shape)"
      ],
      "execution_count": 226,
      "outputs": [
        {
          "output_type": "stream",
          "text": [
            "(20008, 10)\n",
            "(20008,)\n",
            "(5002, 10)\n",
            "(5002,)\n"
          ],
          "name": "stdout"
        }
      ]
    },
    {
      "metadata": {
        "id": "i7roZ7bOdk3J",
        "colab_type": "code",
        "outputId": "4e61cef6-1f7a-420b-aaae-0f8fc778eaae",
        "colab": {
          "base_uri": "https://localhost:8080/",
          "height": 221
        }
      },
      "cell_type": "code",
      "source": [
        "print(X_train.head())\n",
        "print(Y_train.head())"
      ],
      "execution_count": 227,
      "outputs": [
        {
          "output_type": "stream",
          "text": [
            "       S1  C1  S2  C2  S3  C3  S4  C4  S5  C5\n",
            "18828   2   2   1   2   3   8   3   9   4   6\n",
            "5096    4  12   3   7   2  10   3   9   1   6\n",
            "4013    4   3   1   2   4   7   3   9   4   2\n",
            "16254   3   1   2  10   1  11   2   5   3  12\n",
            "695     2   3   4   7   1   6   2   2   2   6\n",
            "18828    1\n",
            "5096     0\n",
            "4013     1\n",
            "16254    0\n",
            "695      1\n",
            "Name: CLASS, dtype: int64\n"
          ],
          "name": "stdout"
        }
      ]
    },
    {
      "metadata": {
        "id": "1S1fbCLBgPB7",
        "colab_type": "code",
        "outputId": "d1549c24-d26e-4483-97c3-1920ccaeffeb",
        "colab": {
          "base_uri": "https://localhost:8080/",
          "height": 153
        }
      },
      "cell_type": "code",
      "source": [
        "from sklearn.model_selection import GridSearchCV\n",
        "\n",
        "from sklearn.neighbors import KNeighborsClassifier\n",
        "from sklearn.tree import DecisionTreeClassifier\n",
        "\n",
        "k_range = list(range(1,20))\n",
        "param_grid = dict(n_neighbors=k_range)\n",
        "knn = KNeighborsClassifier()\n",
        "\n",
        "#5-Fold Cross Validation for KNN\n",
        "grid = GridSearchCV(knn, param_grid, cv = 5, scoring='accuracy')\n",
        "grid.fit(X_train, Y_train)\n"
      ],
      "execution_count": 228,
      "outputs": [
        {
          "output_type": "execute_result",
          "data": {
            "text/plain": [
              "GridSearchCV(cv=5, error_score='raise-deprecating',\n",
              "       estimator=KNeighborsClassifier(algorithm='auto', leaf_size=30, metric='minkowski',\n",
              "           metric_params=None, n_jobs=None, n_neighbors=5, p=2,\n",
              "           weights='uniform'),\n",
              "       fit_params=None, iid='warn', n_jobs=None,\n",
              "       param_grid={'n_neighbors': [1, 2, 3, 4, 5, 6, 7, 8, 9, 10, 11, 12, 13, 14, 15, 16, 17, 18, 19]},\n",
              "       pre_dispatch='2*n_jobs', refit=True, return_train_score='warn',\n",
              "       scoring='accuracy', verbose=0)"
            ]
          },
          "metadata": {
            "tags": []
          },
          "execution_count": 228
        }
      ]
    },
    {
      "metadata": {
        "id": "P-2rTAnHDnIk",
        "colab_type": "code",
        "outputId": "60e32793-7b2f-48ff-d121-0abbf077ca55",
        "colab": {
          "base_uri": "https://localhost:8080/",
          "height": 484
        }
      },
      "cell_type": "code",
      "source": [
        "from sklearn.metrics import accuracy_score, classification_report, confusion_matrix\n",
        "#KNN\n",
        "\n",
        "prediction_knn = grid.predict(X_test)\n",
        "accuracy_knn = accuracy_score(Y_test, prediction_knn)\n",
        "print(accuracy_knn)\n",
        "print(classification_report(Y_test, prediction_knn))\n",
        "print(confusion_matrix(Y_test, prediction_knn))"
      ],
      "execution_count": 230,
      "outputs": [
        {
          "output_type": "stream",
          "text": [
            "0.5799680127948821\n",
            "              precision    recall  f1-score   support\n",
            "\n",
            "           0       0.61      0.76      0.68      2552\n",
            "           1       0.53      0.46      0.49      2075\n",
            "           2       0.50      0.01      0.02       230\n",
            "           3       0.00      0.00      0.00       101\n",
            "           4       0.00      0.00      0.00        22\n",
            "           5       0.00      0.00      0.00         9\n",
            "           6       0.00      0.00      0.00        12\n",
            "           7       0.00      0.00      0.00         1\n",
            "\n",
            "   micro avg       0.58      0.58      0.58      5002\n",
            "   macro avg       0.20      0.15      0.15      5002\n",
            "weighted avg       0.55      0.58      0.55      5002\n",
            "\n",
            "[[1943  608    1    0    0    0    0    0]\n",
            " [1118  956    1    0    0    0    0    0]\n",
            " [ 101  127    2    0    0    0    0    0]\n",
            " [  17   84    0    0    0    0    0    0]\n",
            " [   0   22    0    0    0    0    0    0]\n",
            " [   9    0    0    0    0    0    0    0]\n",
            " [   3    9    0    0    0    0    0    0]\n",
            " [   0    1    0    0    0    0    0    0]]\n"
          ],
          "name": "stdout"
        },
        {
          "output_type": "stream",
          "text": [
            "/usr/local/lib/python3.6/dist-packages/sklearn/metrics/classification.py:1143: UndefinedMetricWarning: Precision and F-score are ill-defined and being set to 0.0 in labels with no predicted samples.\n",
            "  'precision', 'predicted', average, warn_for)\n"
          ],
          "name": "stderr"
        }
      ]
    },
    {
      "metadata": {
        "id": "mW233cn6tWhk",
        "colab_type": "code",
        "colab": {
          "base_uri": "https://localhost:8080/",
          "height": 504
        },
        "outputId": "e034b7bb-1fd0-4baf-91de-c4e2a66a3570"
      },
      "cell_type": "code",
      "source": [
        "#KNN without GridSearch\n",
        "knn.fit(X_train, Y_train)\n",
        "prediction_knn = knn.predict(X_test)\n",
        "accuracy_knn = accuracy_score(Y_test, prediction_knn)\n",
        "print(accuracy_knn)\n",
        "print(classification_report(Y_test, prediction_knn))\n",
        "print(confusion_matrix(Y_test, prediction_knn))\n"
      ],
      "execution_count": 233,
      "outputs": [
        {
          "output_type": "stream",
          "text": [
            "0.5559776089564175\n",
            "              precision    recall  f1-score   support\n",
            "\n",
            "           0       0.60      0.70      0.64      2552\n",
            "           1       0.50      0.48      0.49      2075\n",
            "           2       0.29      0.03      0.06       230\n",
            "           3       0.00      0.00      0.00       101\n",
            "           4       0.00      0.00      0.00        22\n",
            "           5       0.00      0.00      0.00         9\n",
            "           6       0.00      0.00      0.00        12\n",
            "           7       0.00      0.00      0.00         1\n",
            "\n",
            "   micro avg       0.56      0.56      0.56      5002\n",
            "   macro avg       0.17      0.15      0.15      5002\n",
            "weighted avg       0.53      0.56      0.53      5002\n",
            "\n",
            "[[1778  772    1    1    0    0    0    0]\n",
            " [1056  995   17    7    0    0    0    0]\n",
            " [ 101  118    8    3    0    0    0    0]\n",
            " [  25   75    1    0    0    0    0    0]\n",
            " [   3   18    1    0    0    0    0    0]\n",
            " [   9    0    0    0    0    0    0    0]\n",
            " [   4    7    0    1    0    0    0    0]\n",
            " [   0    1    0    0    0    0    0    0]]\n"
          ],
          "name": "stdout"
        },
        {
          "output_type": "stream",
          "text": [
            "/usr/local/lib/python3.6/dist-packages/sklearn/metrics/classification.py:1143: UndefinedMetricWarning: Precision and F-score are ill-defined and being set to 0.0 in labels with no predicted samples.\n",
            "  'precision', 'predicted', average, warn_for)\n"
          ],
          "name": "stderr"
        }
      ]
    },
    {
      "metadata": {
        "id": "0KJ2W094r8K_",
        "colab_type": "code",
        "colab": {
          "base_uri": "https://localhost:8080/",
          "height": 119
        },
        "outputId": "a334bdb9-5722-40af-b26d-fbcc046b085f"
      },
      "cell_type": "code",
      "source": [
        "#Decision Tree\n",
        "\n",
        "tree.fit(X_train, Y_train)\n"
      ],
      "execution_count": 238,
      "outputs": [
        {
          "output_type": "execute_result",
          "data": {
            "text/plain": [
              "DecisionTreeClassifier(class_weight=None, criterion='gini', max_depth=None,\n",
              "            max_features=None, max_leaf_nodes=None,\n",
              "            min_impurity_decrease=0.0, min_impurity_split=None,\n",
              "            min_samples_leaf=1, min_samples_split=2,\n",
              "            min_weight_fraction_leaf=0.0, presort=False, random_state=None,\n",
              "            splitter='best')"
            ]
          },
          "metadata": {
            "tags": []
          },
          "execution_count": 238
        }
      ]
    },
    {
      "metadata": {
        "id": "83jIk7PFJE1c",
        "colab_type": "code",
        "outputId": "2fc80562-dc0b-41e5-f2af-9ec66c93a020",
        "colab": {
          "base_uri": "https://localhost:8080/",
          "height": 552
        }
      },
      "cell_type": "code",
      "source": [
        "#Decision Tree\n",
        "\n",
        "prediction_tree = tree.predict(X_test)\n",
        "accuracy_tree = accuracy_score(Y_test, prediction_tree)\n",
        "print(accuracy_tree)\n",
        "print(classification_report(Y_test,prediction_tree))\n",
        "print(confusion_matrix(Y_test, prediction_tree))\n",
        "\n"
      ],
      "execution_count": 239,
      "outputs": [
        {
          "output_type": "stream",
          "text": [
            "0.4892043182726909\n",
            "              precision    recall  f1-score   support\n",
            "\n",
            "           0       0.60      0.56      0.58      2552\n",
            "           1       0.46      0.47      0.46      2075\n",
            "           2       0.10      0.12      0.11       230\n",
            "           3       0.07      0.09      0.08       101\n",
            "           4       0.04      0.05      0.04        22\n",
            "           5       0.25      0.44      0.32         9\n",
            "           6       0.00      0.00      0.00        12\n",
            "           7       0.00      0.00      0.00         1\n",
            "           8       0.00      0.00      0.00         0\n",
            "           9       0.00      0.00      0.00         0\n",
            "\n",
            "   micro avg       0.49      0.49      0.49      5002\n",
            "   macro avg       0.15      0.17      0.16      5002\n",
            "weighted avg       0.50      0.49      0.49      5002\n",
            "\n",
            "[[1432  965   85   41   13   10    4    1    0    1]\n",
            " [ 863  973  153   66    9    2    5    2    2    0]\n",
            " [  68  116   28   14    3    0    1    0    0    0]\n",
            " [  32   53    6    9    1    0    0    0    0    0]\n",
            " [   7   10    2    2    1    0    0    0    0    0]\n",
            " [   3    1    0    0    0    4    1    0    0    0]\n",
            " [   1    6    4    1    0    0    0    0    0    0]\n",
            " [   0    0    0    1    0    0    0    0    0    0]\n",
            " [   0    0    0    0    0    0    0    0    0    0]\n",
            " [   0    0    0    0    0    0    0    0    0    0]]\n"
          ],
          "name": "stdout"
        },
        {
          "output_type": "stream",
          "text": [
            "/usr/local/lib/python3.6/dist-packages/sklearn/metrics/classification.py:1145: UndefinedMetricWarning: Recall and F-score are ill-defined and being set to 0.0 in labels with no true samples.\n",
            "  'recall', 'true', average, warn_for)\n"
          ],
          "name": "stderr"
        }
      ]
    }
  ]
}