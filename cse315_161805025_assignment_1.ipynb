{
  "nbformat": 4,
  "nbformat_minor": 0,
  "metadata": {
    "colab": {
      "name": "cse315_161805025_assignment_1.ipynb",
      "version": "0.3.2",
      "provenance": [],
      "collapsed_sections": [],
      "include_colab_link": true
    },
    "kernelspec": {
      "name": "python3",
      "display_name": "Python 3"
    }
  },
  "cells": [
    {
      "cell_type": "markdown",
      "metadata": {
        "id": "view-in-github",
        "colab_type": "text"
      },
      "source": [
        "<a href=\"https://colab.research.google.com/github/kemalyildirim/helloworld-machinelearning/blob/master/cse315_161805025_assignment_1.ipynb\" target=\"_parent\"><img src=\"https://colab.research.google.com/assets/colab-badge.svg\" alt=\"Open In Colab\"/></a>"
      ]
    },
    {
      "metadata": {
        "id": "Ys7jqPBVUfYC",
        "colab_type": "text"
      },
      "cell_type": "markdown",
      "source": [
        "Kemal Yildirim - 161805025 Adnan Menders University\n",
        "\n",
        "CSE 315 Assignment#1\n",
        "\n",
        "UCI's poker hand data set.\n",
        "\n",
        "For detailed information: https://archive.ics.uci.edu/ml/datasets/Poker+Hand\n",
        "\n",
        "**Data Set Information:**\n",
        "\n",
        "Each record is an example of a hand consisting of five playing cards drawn from a standard deck of 52.\n",
        "\n",
        "**Attirubutes:**\n",
        "\n",
        "Features consist of five cards; each card have rank(labeled as numerically  1 to 13 (Ace, 2, 3, ... Queen King)) and suit(Hearts, Spades, Diamonds, Clubs)\n",
        "\n",
        "Output is class of the poker hand labeled as 0 to 9 numerically:\n",
        "\n",
        "\n",
        "0: Nothing in hand; not a recognized poker hand \n",
        "\n",
        "1: One pair; one pair of equal ranks within five cards \n",
        "\n",
        "2: Two pairs; two pairs of equal ranks within five cards \n",
        "\n",
        "3: Three of a kind; three equal ranks within five cards \n",
        "\n",
        "4: Straight; five cards, sequentially ranked with no gaps \n",
        "\n",
        "5: Flush; five cards with the same suit \n",
        "\n",
        "6: Full house; pair + different rank three of a kind \n",
        "\n",
        "7: Four of a kind; four equal ranks within five cards \n",
        "\n",
        "8: Straight flush; straight + flush \n",
        "\n",
        "9: Royal flush; {Ace, King, Queen, Jack, Ten} + flush \n"
      ]
    },
    {
      "metadata": {
        "id": "KQNFIAk_UMNj",
        "colab_type": "text"
      },
      "cell_type": "markdown",
      "source": [
        "Import libraries."
      ]
    },
    {
      "metadata": {
        "id": "pMJePHMyI-O1",
        "colab_type": "code",
        "colab": {}
      },
      "cell_type": "code",
      "source": [
        "import pandas as pd\n",
        "import numpy as np\n",
        "import urllib"
      ],
      "execution_count": 0,
      "outputs": []
    },
    {
      "metadata": {
        "id": "saPYlRVuUHB0",
        "colab_type": "text"
      },
      "cell_type": "markdown",
      "source": [
        "Fetch data set and name columns."
      ]
    },
    {
      "metadata": {
        "id": "eTH-EPVNJG1n",
        "colab_type": "code",
        "colab": {}
      },
      "cell_type": "code",
      "source": [
        "column = [\"S1\",\"C1\",\"S2\",\"C2\",\"S3\",\"C3\",\"S4\",\"C4\",\"S5\",\"C5\",\"CLASS\"]\n",
        "link = \"https://archive.ics.uci.edu/ml/machine-learning-databases/poker/\"\n",
        "\n",
        "#Fetch training and test set\n",
        "urllib.request.urlretrieve(link + \"poker-hand-training-true.data\",\"training.csv\")\n",
        "urllib.request.urlretrieve(link + \"poker-hand-testing.data\",\"testing.csv\")\n",
        "\n",
        "training_set = pd.read_csv(\"training.csv\", names = column)\n",
        "\n",
        "#There is a given test set so I will not split the training set into test set.\n",
        "test_set = pd.read_csv(\"testing.csv\",names = column, engine=\"python\")"
      ],
      "execution_count": 0,
      "outputs": []
    },
    {
      "metadata": {
        "id": "gjWnszgRMtvj",
        "colab_type": "code",
        "colab": {
          "base_uri": "https://localhost:8080/",
          "height": 238
        },
        "outputId": "ba9842a2-fde3-4772-dded-d8b765c74c1a"
      },
      "cell_type": "code",
      "source": [
        "print(training_set.head())\n",
        "print(test_set.head())"
      ],
      "execution_count": 50,
      "outputs": [
        {
          "output_type": "stream",
          "text": [
            "   S1  C1  S2  C2  S3  C3  S4  C4  S5  C5  CLASS\n",
            "0   1  10   1  11   1  13   1  12   1   1      9\n",
            "1   2  11   2  13   2  10   2  12   2   1      9\n",
            "2   3  12   3  11   3  13   3  10   3   1      9\n",
            "3   4  10   4  11   4   1   4  13   4  12      9\n",
            "4   4   1   4  13   4  12   4  11   4  10      9\n",
            "   S1  C1  S2  C2  S3  C3  S4  C4  S5  C5  CLASS\n",
            "0   1   1   1  13   2   4   2   3   1  12      0\n",
            "1   3  12   3   2   3  11   4   5   2   5      1\n",
            "2   1   9   4   6   1   4   3   2   3   9      1\n",
            "3   1   4   3  13   2  13   2   1   3   6      1\n",
            "4   3  10   2   7   1   2   2  11   4   9      0\n"
          ],
          "name": "stdout"
        },
        {
          "output_type": "execute_result",
          "data": {
            "text/plain": [
              "(1000000, 11)"
            ]
          },
          "metadata": {
            "tags": []
          },
          "execution_count": 50
        }
      ]
    },
    {
      "metadata": {
        "id": "oscHpVGvTToC",
        "colab_type": "text"
      },
      "cell_type": "markdown",
      "source": [
        "Set rows [0:9] as features and row 11 as output:"
      ]
    },
    {
      "metadata": {
        "id": "1W0iTeOeMypB",
        "colab_type": "code",
        "colab": {}
      },
      "cell_type": "code",
      "source": [
        "X_train = training_set.iloc[:,2:-1]\n",
        "Y_train = training_set['CLASS']"
      ],
      "execution_count": 0,
      "outputs": []
    },
    {
      "metadata": {
        "id": "WBtm0xOXYy3c",
        "colab_type": "code",
        "colab": {
          "base_uri": "https://localhost:8080/",
          "height": 51
        },
        "outputId": "9a3d5e3d-f20f-417a-9f6b-177f4a63607a"
      },
      "cell_type": "code",
      "source": [
        "print(X_train.shape)\n",
        "print(Y_train.shape)"
      ],
      "execution_count": 71,
      "outputs": [
        {
          "output_type": "stream",
          "text": [
            "(25010, 8)\n",
            "(25010,)\n"
          ],
          "name": "stdout"
        }
      ]
    },
    {
      "metadata": {
        "id": "tLyxYxBiZcxS",
        "colab_type": "text"
      },
      "cell_type": "markdown",
      "source": [
        "There are 25010 poker hands and each hand have 8 features."
      ]
    },
    {
      "metadata": {
        "id": "b4OEN-uUdu_q",
        "colab_type": "text"
      },
      "cell_type": "markdown",
      "source": [
        "Picking first 7500 rows of the test set for testing.(30% of the training set.)"
      ]
    },
    {
      "metadata": {
        "id": "i7roZ7bOdk3J",
        "colab_type": "code",
        "colab": {
          "base_uri": "https://localhost:8080/",
          "height": 255
        },
        "outputId": "2766119e-50c7-458e-8aa1-be9a6ff3cb60"
      },
      "cell_type": "code",
      "source": [
        "X_test, Y_test = test_set.iloc[:7500,2:-1], test_set.loc[:7500,'CLASS']\n",
        "print(\"X test shape: %s\", X_test.shape)\n",
        "print(\"Y test shape: %s\" ,Y_test.shape)\n",
        "print(X_test.head())\n",
        "print(Y_test.head())"
      ],
      "execution_count": 69,
      "outputs": [
        {
          "output_type": "stream",
          "text": [
            "X test shape: %s (7500, 8)\n",
            "Y test shape: %s (7501,)\n",
            "   S2  C2  S3  C3  S4  C4  S5  C5\n",
            "0   1  13   2   4   2   3   1  12\n",
            "1   3   2   3  11   4   5   2   5\n",
            "2   4   6   1   4   3   2   3   9\n",
            "3   3  13   2  13   2   1   3   6\n",
            "4   2   7   1   2   2  11   4   9\n",
            "0    0\n",
            "1    1\n",
            "2    1\n",
            "3    1\n",
            "4    0\n",
            "Name: CLASS, dtype: int64\n"
          ],
          "name": "stdout"
        }
      ]
    },
    {
      "metadata": {
        "id": "1S1fbCLBgPB7",
        "colab_type": "code",
        "colab": {
          "base_uri": "https://localhost:8080/",
          "height": 187
        },
        "outputId": "98794bf0-4e39-44c3-d2d6-74d2e71c5685"
      },
      "cell_type": "code",
      "source": [
        ""
      ],
      "execution_count": 63,
      "outputs": [
        {
          "output_type": "execute_result",
          "data": {
            "text/html": [
              "<div>\n",
              "<style scoped>\n",
              "    .dataframe tbody tr th:only-of-type {\n",
              "        vertical-align: middle;\n",
              "    }\n",
              "\n",
              "    .dataframe tbody tr th {\n",
              "        vertical-align: top;\n",
              "    }\n",
              "\n",
              "    .dataframe thead th {\n",
              "        text-align: right;\n",
              "    }\n",
              "</style>\n",
              "<table border=\"1\" class=\"dataframe\">\n",
              "  <thead>\n",
              "    <tr style=\"text-align: right;\">\n",
              "      <th></th>\n",
              "    </tr>\n",
              "  </thead>\n",
              "  <tbody>\n",
              "    <tr>\n",
              "      <th>0</th>\n",
              "    </tr>\n",
              "    <tr>\n",
              "      <th>1</th>\n",
              "    </tr>\n",
              "    <tr>\n",
              "      <th>2</th>\n",
              "    </tr>\n",
              "    <tr>\n",
              "      <th>3</th>\n",
              "    </tr>\n",
              "    <tr>\n",
              "      <th>4</th>\n",
              "    </tr>\n",
              "  </tbody>\n",
              "</table>\n",
              "</div>"
            ],
            "text/plain": [
              "Empty DataFrame\n",
              "Columns: []\n",
              "Index: [0, 1, 2, 3, 4]"
            ]
          },
          "metadata": {
            "tags": []
          },
          "execution_count": 63
        }
      ]
    }
  ]
}